{
 "cells": [
  {
   "cell_type": "code",
   "execution_count": 4,
   "metadata": {},
   "outputs": [],
   "source": [
    "import numpy as np"
   ]
  },
  {
   "cell_type": "markdown",
   "metadata": {},
   "source": [
    "### 创建数组"
   ]
  },
  {
   "cell_type": "code",
   "execution_count": 21,
   "metadata": {},
   "outputs": [
    {
     "data": {
      "text/plain": [
       "array([1, 2, 3, 4])"
      ]
     },
     "execution_count": 21,
     "metadata": {},
     "output_type": "execute_result"
    }
   ],
   "source": [
    "data1 = [1, 2, 3, 4]\n",
    "data2 = [[1, 2, 3, 4], [2, 3, 4, 5]]\n",
    "\n",
    "arr = np.asarray([1, 2, 3, 4])\n",
    "arr0 = np.array([1, 2, 3, 4])\n",
    "arr1 = np.array(data1)\n",
    "arr2 = np.array(data2)\n",
    "\n",
    "arr2.shape\n",
    "arr2.ndim\n",
    "arr2.dtype"
   ]
  },
  {
   "cell_type": "code",
   "execution_count": 19,
   "metadata": {
    "collapsed": true
   },
   "outputs": [
    {
     "data": {
      "text/plain": [
       "array([[ 1.,  0.,  0.],\n",
       "       [ 0.,  1.,  0.],\n",
       "       [ 0.,  0.,  1.]])"
      ]
     },
     "execution_count": 19,
     "metadata": {},
     "output_type": "execute_result"
    }
   ],
   "source": [
    "np.zeros(10)\n",
    "np.zeros((3,6))\n",
    "np.zeros((3,2,3))\n",
    "np.zeros_like(arr2)    #按照arr2的维度生成一个全是0的数组\n",
    "#ones()用法一样\n",
    "np.empty((2,3,2))\n",
    "np.arange(10)\n",
    "np.eye(3)    #生成一个3*3的单位矩阵"
   ]
  },
  {
   "cell_type": "markdown",
   "metadata": {},
   "source": [
    "### 数组属性"
   ]
  },
  {
   "cell_type": "code",
   "execution_count": 37,
   "metadata": {
    "collapsed": true
   },
   "outputs": [
    {
     "data": {
      "text/plain": [
       "array([ 0.,  1.,  2.,  3.,  4.])"
      ]
     },
     "execution_count": 37,
     "metadata": {},
     "output_type": "execute_result"
    }
   ],
   "source": [
    "arr = np.array([1, 2, 3, 4], dtype=np.float64)\n",
    "int_arr = arr1.astype(np.int32)\n",
    "\n",
    "str_arr = np.array(['1.2', '4.34', '5'], dtype=np.string_) \n",
    "num_arr = str_arr.astype(np.float)    #数值型的字符串可以直接转化为数字\n",
    "\n",
    "int_range = np.arange(5)\n",
    "f64 = np.array([1, 2, 3, 4], dtype=np.float64)\n",
    "int_range.astype(f64.dtype) \n",
    "#astype是创建一个新的数组，相当于原始数据拷贝一份，所以对于原始数据并无改变，所以int_range的类型仍然是int32"
   ]
  },
  {
   "cell_type": "markdown",
   "metadata": {},
   "source": [
    "### 运算"
   ]
  },
  {
   "cell_type": "code",
   "execution_count": 39,
   "metadata": {
    "collapsed": true
   },
   "outputs": [
    {
     "data": {
      "text/plain": [
       "array([ 1.        ,  1.41421356,  1.73205081])"
      ]
     },
     "execution_count": 39,
     "metadata": {},
     "output_type": "execute_result"
    }
   ],
   "source": [
    "arr = np.array([1., 2., 3.])\n",
    "arr * arr\n",
    "1 / arr\n",
    "arr ** 0.5    #数组中的计算都是元素级的计算"
   ]
  },
  {
   "cell_type": "markdown",
   "metadata": {},
   "source": [
    "### 索引和切片"
   ]
  },
  {
   "cell_type": "code",
   "execution_count": 48,
   "metadata": {
    "collapsed": true
   },
   "outputs": [
    {
     "data": {
      "text/plain": [
       "array([ 0,  1,  2, 64, 64,  5,  6,  7,  8,  9])"
      ]
     },
     "execution_count": 48,
     "metadata": {},
     "output_type": "execute_result"
    }
   ],
   "source": [
    "arr = np.arange(10)\n",
    "arr_slice = arr[3:5]\n",
    "arr_slice[:] = 64    \n",
    "#对于原数组的切片操作是会一直保存的，所以arr的值改变了,如果不想改变arr的值需要copy()\n",
    "arr_copy = arr[3:5].copy()\n",
    "arr_copy[:] = 32"
   ]
  },
  {
   "cell_type": "code",
   "execution_count": 21,
   "metadata": {},
   "outputs": [
    {
     "data": {
      "text/plain": [
       "array([6, 7])"
      ]
     },
     "execution_count": 21,
     "metadata": {},
     "output_type": "execute_result"
    }
   ],
   "source": [
    "arr2d = np.array([[1, 2, 3], [4, 5, 6], [5, 6, 7]])\n",
    "arr2d[0,1]    #相当于取（0,1）处的元素\n",
    "arr2d[:2, 1:]\n",
    "\n",
    "arr2d[2]    #[5,6,7]\n",
    "arr2d[2:]    #[[5,6,7]]\n",
    "arr2d[2:, 1]    #[6]\n",
    "arr2d[2:, 1:]    #[[6,7]]\n",
    "arr2d[2, 1:]    #[6,7]\n",
    "#冒号表示选取整个轴，所以这样切片之后仍然是一个二维数组，注意区别"
   ]
  },
  {
   "cell_type": "markdown",
   "metadata": {},
   "source": [
    "### 布尔索引和花式索引"
   ]
  },
  {
   "cell_type": "code",
   "execution_count": 6,
   "metadata": {
    "collapsed": true
   },
   "outputs": [
    {
     "data": {
      "text/plain": [
       "array([[ 0.        ,  0.        ,  0.        ],\n",
       "       [ 0.        ,  0.        ,  0.        ],\n",
       "       [ 1.74026623, -1.2695329 ,  0.63461647],\n",
       "       [ 0.        ,  0.        ,  0.        ]])"
      ]
     },
     "execution_count": 6,
     "metadata": {},
     "output_type": "execute_result"
    }
   ],
   "source": [
    "names = np.array(['bob', 'tom', 'eric', 'bob'])\n",
    "data = np.random.randn(4,3)\n",
    "data\n",
    "names == 'bob'    #生成一个布尔型的数组\n",
    "mask = (names=='bob') | (names=='tom')\n",
    "data[mask] = 0"
   ]
  },
  {
   "cell_type": "code",
   "execution_count": 11,
   "metadata": {
    "collapsed": true
   },
   "outputs": [
    {
     "data": {
      "text/plain": [
       "array([[7, 5, 6],\n",
       "       [3, 1, 2]])"
      ]
     },
     "execution_count": 11,
     "metadata": {},
     "output_type": "execute_result"
    }
   ],
   "source": [
    "arr2d = np.array([[1, 2, 3], [4, 5, 6], [5, 6, 7]])\n",
    "arr2d[[1,0]]\n",
    "arr2d[[2,0],[1,0]]    #取（2,1）和（0,0）两个点\n",
    "arr2d[[2,0]][:, [2,0,1]]\n",
    "arr2d[np.ix_([2,0],[2,0,1])]   \n",
    "#根据两个一维数组进行选取，也就是一个索引器：先第2行，第0行取；每行中先取第2个，第0个，第1个"
   ]
  },
  {
   "cell_type": "markdown",
   "metadata": {},
   "source": [
    "### 转置和轴对换"
   ]
  },
  {
   "cell_type": "code",
   "execution_count": 13,
   "metadata": {
    "collapsed": true
   },
   "outputs": [
    {
     "data": {
      "text/plain": [
       "array([[[ 0,  1,  2,  3],\n",
       "        [ 8,  9, 10, 11]],\n",
       "\n",
       "       [[ 4,  5,  6,  7],\n",
       "        [12, 13, 14, 15]]])"
      ]
     },
     "execution_count": 13,
     "metadata": {},
     "output_type": "execute_result"
    }
   ],
   "source": [
    "arr = np.arange(16).reshape((2, 2, 4))\n",
    "arr.T\n",
    "\n",
    "arr.transpose((1, 0, 2)) #表示第一维度和第二维度进行交换\n",
    "arr.swapaxes(0, 1) #输入一对轴编号（顺序无所谓）两者发生交换"
   ]
  },
  {
   "cell_type": "markdown",
   "metadata": {},
   "source": [
    "### 函数 "
   ]
  },
  {
   "cell_type": "code",
   "execution_count": 29,
   "metadata": {},
   "outputs": [
    {
     "data": {
      "text/plain": [
       "array([ 0.,  1.,  2.,  3.,  4.,  5.,  6.,  7.,  8.,  9.])"
      ]
     },
     "execution_count": 29,
     "metadata": {},
     "output_type": "execute_result"
    }
   ],
   "source": [
    "arr = np.arange(10)\n",
    "np.sqrt(arr)"
   ]
  },
  {
   "cell_type": "markdown",
   "metadata": {},
   "source": [
    "#####  一元函数的作用\n",
    "abs(fabs),sqrt,exp,log,cos,sin,sinh,cosh,tan,tanh:常用函数\n",
    "square:平方\n",
    "sign:计算各元素的正负号（正数1，零0，负数-1）\n",
    "ceil:取各元素大于等于该值得最小整数\n",
    "floor:取各元素小于等于该值得最大整数\n",
    "rint:将各元素四舍五入到最接近的整数\n",
    "modf:将数组的小数和整数以两个独立数组返回\n",
    "isnan/isfinite/isinf:返回一个是否NaN（不是一个整数）/是否有穷/是否无穷的布尔值\n",
    "logical_not:相当于-arr"
   ]
  },
  {
   "attachments": {},
   "cell_type": "markdown",
   "metadata": {},
   "source": []
  },
  {
   "cell_type": "code",
   "execution_count": null,
   "metadata": {},
   "outputs": [],
   "source": []
  }
 ],
 "metadata": {
  "kernelspec": {
   "display_name": "Python 3",
   "language": "python",
   "name": "python3"
  },
  "language_info": {
   "codemirror_mode": {
    "name": "ipython",
    "version": 3
   },
   "file_extension": ".py",
   "mimetype": "text/x-python",
   "name": "python",
   "nbconvert_exporter": "python",
   "pygments_lexer": "ipython3",
   "version": "3.6.8"
  }
 },
 "nbformat": 4,
 "nbformat_minor": 2
}
